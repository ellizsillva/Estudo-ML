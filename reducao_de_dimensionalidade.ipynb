{
  "nbformat": 4,
  "nbformat_minor": 0,
  "metadata": {
    "colab": {
      "provenance": [],
      "authorship_tag": "ABX9TyMCDyZ/we+4VOgQMjIY/KuX",
      "include_colab_link": true
    },
    "kernelspec": {
      "name": "python3",
      "display_name": "Python 3"
    },
    "language_info": {
      "name": "python"
    }
  },
  "cells": [
    {
      "cell_type": "markdown",
      "metadata": {
        "id": "view-in-github",
        "colab_type": "text"
      },
      "source": [
        "<a href=\"https://colab.research.google.com/github/ellizsillva/Estudo-ML/blob/main/reducao_de_dimensionalidade.ipynb\" target=\"_parent\"><img src=\"https://colab.research.google.com/assets/colab-badge.svg\" alt=\"Open In Colab\"/></a>"
      ]
    },
    {
      "cell_type": "code",
      "execution_count": 20,
      "metadata": {
        "id": "YAAat688qKUV"
      },
      "outputs": [],
      "source": [
        "import numpy as np\n",
        "from PIL import Image\n",
        "\n",
        "image_path = \"/content/lena.jpg\"\n",
        "image = Image.open(image_path)\n"
      ]
    },
    {
      "cell_type": "code",
      "source": [
        "img_array = np.array(image)\n",
        "height, width, _ = img_array.shape"
      ],
      "metadata": {
        "id": "Iy-fDySVsNLL"
      },
      "execution_count": 22,
      "outputs": []
    },
    {
      "cell_type": "code",
      "source": [
        "def rgb_to_gray(pixel):\n",
        "    return 0.2989 * pixel[0] + 0.5870 * pixel[1] + 0.1140 * pixel[2]\n",
        "\n",
        "gray_img = np.zeros((height, width), dtype=np.uint8)\n",
        "\n",
        "for i in range(height):\n",
        "    for j in range(width):\n",
        "        gray_img[i, j] = int(rgb_to_gray(img_array[i, j]))"
      ],
      "metadata": {
        "id": "2AiPApv_szwY"
      },
      "execution_count": 25,
      "outputs": []
    },
    {
      "cell_type": "code",
      "source": [
        "threshold = 128\n",
        "binary_img = np.where(gray_img >= threshold, 255, 0).astype(np.uint8)"
      ],
      "metadata": {
        "id": "Tu11Ql2ws1MA"
      },
      "execution_count": 26,
      "outputs": []
    },
    {
      "cell_type": "code",
      "source": [
        "\n",
        "binary_image.save('/content/imagem_binarizada.jpg')\n",
        "\n",
        "\n",
        "binary_image.show()"
      ],
      "metadata": {
        "id": "D5gCImBStFLP"
      },
      "execution_count": 27,
      "outputs": []
    }
  ]
}